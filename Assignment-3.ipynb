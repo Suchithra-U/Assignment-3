{
 "cells": [
  {
   "cell_type": "code",
   "execution_count": 12,
   "metadata": {},
   "outputs": [
    {
     "name": "stdout",
     "output_type": "stream",
     "text": [
      "enter Age:23\n",
      "You are Elligible  to vote.\n"
     ]
    }
   ],
   "source": [
    "#Eligible or not to vote\n",
    "age=int(input(\"enter Age:\"))\n",
    "if age>=18:\n",
    "        Status=\"Elligible\"\n",
    "else:\n",
    "     Status=\"Not Elligible\"\n",
    "print(\"You are\",Status,\" to vote.\")\n",
    "\n"
   ]
  },
  {
   "cell_type": "code",
   "execution_count": 1,
   "metadata": {},
   "outputs": [
    {
     "name": "stdout",
     "output_type": "stream",
     "text": [
      "Enter number: 15\n",
      "15 is odd\n"
     ]
    }
   ],
   "source": [
    "#Number is even or odd\n",
    "num=int(input(\"Enter number: \"))\n",
    "if(num%2)==0:\n",
    "            print(\"{0} is even\".format(num))\n",
    "else:\n",
    "     print(\"{0} is odd\".format(num))"
   ]
  },
  {
   "cell_type": "code",
   "execution_count": 10,
   "metadata": {},
   "outputs": [
    {
     "name": "stdout",
     "output_type": "stream",
     "text": [
      "Enter a number: 20\n",
      "20 is not a prime number\n"
     ]
    }
   ],
   "source": [
    "#Number is prime or not\n",
    "num = int(input(\"Enter a number: \"))  \n",
    "if num > 1:  \n",
    "   for i in range(2,num):  \n",
    "       if (num % i) == 0:  \n",
    "           print(num,\"is not a prime number\")  \n",
    "           break  \"\"\n",
    "   else:  \n",
    "       print(num,\"is a prime number\")  \n",
    "         "
   ]
  },
  {
   "cell_type": "code",
   "execution_count": 11,
   "metadata": {},
   "outputs": [
    {
     "name": "stdout",
     "output_type": "stream",
     "text": [
      "Enter a number:-15\n",
      "Number is negative\n"
     ]
    }
   ],
   "source": [
    "#Number is positive or negative\n",
    "n=int(input(\"Enter a number:\"))\n",
    "if(n>0):\n",
    "        print(\"Number is positive\")\n",
    "else:\n",
    "     print(\"Number is negative\")"
   ]
  },
  {
   "cell_type": "code",
   "execution_count": 25,
   "metadata": {},
   "outputs": [
    {
     "name": "stdout",
     "output_type": "stream",
     "text": [
      "Enter the value of a:3\n",
      "Enter the value of b:4\n",
      "Enter the value of c:5\n",
      "The roots are imaginary\n"
     ]
    }
   ],
   "source": [
    "#Quadratic equation\n",
    "import math\n",
    "a=int(input(\"Enter the value of a:\"))\n",
    "b=int(input(\"Enter the value of b:\"))\n",
    "c=int(input(\"Enter the value of c:\"))\n",
    "if(a!=0):\n",
    "        d=b*b-4*a*c\n",
    "        if d==0:\n",
    "            x1,x2=-b/(2*a),-b/(2*a)\n",
    "            print(\"The Roots are Real x1=\",x1,\"x2=\",x2)\n",
    "        elif d>0: \n",
    "                    x1,x2=(-b+math.sqrt(d))/(2*a),(-b -math.sqrt(d))/(2*a)\n",
    "                    print(\"The roots are different x1=\",x1,\"x2=\",x2)\n",
    "        else:\n",
    "            print(\"The roots are imaginary\")\n",
    "else:\n",
    "    print(\"Its a linear equation\")\n",
    "\n"
   ]
  },
  {
   "cell_type": "code",
   "execution_count": 23,
   "metadata": {},
   "outputs": [
    {
     "name": "stdout",
     "output_type": "stream",
     "text": [
      "Enter the number:0\n",
      "The number is Zero\n"
     ]
    }
   ],
   "source": [
    "#Number is positive or negative or zero\n",
    "num=float(input(\"Enter the number:\"))\n",
    "if num>=0:\n",
    "        if num==0:\n",
    "                  print(\"The number is Zero\")\n",
    "        else:\n",
    "             print(\"The number is Positive\")\n",
    "else:\n",
    "     print(\"The number is Negative\")\n",
    "    \n"
   ]
  },
  {
   "cell_type": "code",
   "execution_count": 4,
   "metadata": {},
   "outputs": [
    {
     "name": "stdout",
     "output_type": "stream",
     "text": [
      "Enter the character=i\n",
      "i Is a vowel\n"
     ]
    }
   ],
   "source": [
    "#Character is a vowel or consonant\n",
    "char=(input(\"Enter the character=\"))\n",
    "if (char=='a')or(char=='e')or(char=='i')or(char=='o')or(char=='u'):\n",
    "    print(char,\"Is a vowel\")\n",
    "else:\n",
    "    print(char,\"Is a Consonant\")"
   ]
  },
  {
   "cell_type": "code",
   "execution_count": 6,
   "metadata": {},
   "outputs": [
    {
     "name": "stdout",
     "output_type": "stream",
     "text": [
      "Enter a number between 1-5=3\n",
      "Three\n"
     ]
    }
   ],
   "source": [
    "#Accept a number and print the given number in words\n",
    "num=int(input(\"Enter a number between 1-5=\"))\n",
    "if(num<=5 and num>0):\n",
    "    if num==1:\n",
    "        print(\"One\")\n",
    "    elif num==2:\n",
    "        print(\"Two\")\n",
    "    elif num==3:\n",
    "        print(\"Three\")\n",
    "    elif num==4:\n",
    "        print(\"Four\")\n",
    "    elif num==5:\n",
    "        print(\"Five\")\n",
    "else:\n",
    "    print(\"Entered number is not between 1-5\")"
   ]
  },
  {
   "cell_type": "code",
   "execution_count": null,
   "metadata": {},
   "outputs": [],
   "source": []
  }
 ],
 "metadata": {
  "kernelspec": {
   "display_name": "Python 3",
   "language": "python",
   "name": "python3"
  },
  "language_info": {
   "codemirror_mode": {
    "name": "ipython",
    "version": 3
   },
   "file_extension": ".py",
   "mimetype": "text/x-python",
   "name": "python",
   "nbconvert_exporter": "python",
   "pygments_lexer": "ipython3",
   "version": "3.8.3"
  }
 },
 "nbformat": 4,
 "nbformat_minor": 4
}
